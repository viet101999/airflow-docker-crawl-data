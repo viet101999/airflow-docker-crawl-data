{
 "cells": [
  {
   "cell_type": "code",
   "execution_count": 12,
   "metadata": {},
   "outputs": [],
   "source": [
    "import re\n",
    "import logging\n",
    "import os\n",
    "import time\n",
    "import random\n",
    "import importlib\n",
    "\n",
    "from selenium import webdriver\n",
    "from selenium.webdriver.chrome.service import Service\n",
    "from selenium.webdriver.common.proxy import ProxyType, Proxy\n",
    "from selenium.webdriver.firefox.options import Options as FirefoxOptions\n",
    "from selenium.webdriver.chrome.options import Options\n",
    "\n",
    "# from config.config import Config\n",
    "\n",
    "from selenium import webdriver\n",
    "from bs4 import BeautifulSoup\n",
    "\n",
    "from selenium import webdriver\n",
    "from selenium.webdriver.firefox.options import Options as FirefoxOptions\n",
    "from selenium.webdriver.common.keys import Keys\n",
    "from selenium.common.exceptions import TimeoutException\n",
    "from selenium.webdriver.support.ui import WebDriverWait\n",
    "from selenium.webdriver.support import expected_conditions as EC\n",
    "from selenium.webdriver.common.by import By\n",
    "from selenium.webdriver.chrome.service import Service\n",
    "from selenium.webdriver.support.select import Select\n",
    "from concurrent.futures import ThreadPoolExecutor\n",
    "\n",
    "import requests\n",
    "from bs4 import BeautifulSoup\n",
    "from lxml import etree\n",
    "import pandas as pd\n",
    "from tqdm import tqdm\n",
    "import re\n",
    "import os\n",
    "import glob\n",
    "import copy\n",
    "import time\n",
    "import random\n",
    "import html2text\n",
    "import selenium.webdriver.support.expected_conditions as ec\n",
    "\n",
    "def setup_selenium_firefox(headless: bool=False):\n",
    "    ser = Service(\"C:/Users/kietthq/report/crawl_data/driver_firefox/geckodriver.exe\")\n",
    "    # \"C:\\Users\\kietthq\\report\\crawl_data\\Crawl data from E Commerce Exchange\\utils\"\n",
    "    firefox_options = FirefoxOptions()\n",
    "    # profile_path = r\"D:/trungphan/backup_code/crawl_data/chromedriver_win32/profile_firefox/qxnu6j9q.default-release\"\n",
    "    # firefox_options.add_argument(\"-profile\")\n",
    "    # firefox_options.add_argument(profile_path)\n",
    "    # print(\"taskkill /f /im something.exe\")\n",
    "    firefox_options.set_preference('devtools.jsonview.enabled', False)\n",
    "    firefox_options.set_preference('dom.webnotifications.enabled', False)\n",
    "    firefox_options.add_argument(\"--test-type\")\n",
    "    firefox_options.add_argument('--ignore-certificate-errors')\n",
    "    firefox_options.add_argument('--disable-extensions')\n",
    "    firefox_options.add_argument('disable-infobars')\n",
    "    firefox_options.add_argument(\"--incognito\")\n",
    "    if headless:\n",
    "        firefox_options.add_argument(\"--headless\")\n",
    "    driver = webdriver.Firefox(service=ser, options=firefox_options)\n",
    "    return driver\n",
    "\n",
    "def access_website_driver(url, headless):\n",
    "    driver = setup_selenium_firefox(headless=headless)\n",
    "    res = \"\"\n",
    "    for _ in range(5):\n",
    "        try:\n",
    "            res = \"\"\n",
    "            driver.get(url)\n",
    "            break\n",
    "        except:\n",
    "            res = None\n",
    "            continue\n",
    "    if res is None:\n",
    "        driver.close()\n",
    "        return None\n",
    "\n",
    "    return driver"
   ]
  },
  {
   "cell_type": "code",
   "execution_count": 17,
   "metadata": {},
   "outputs": [],
   "source": [
    "options = webdriver.ChromeOptions()\n",
    "options.add_argument(\"--headless\")\n",
    "options.add_argument('--ignore-ssl-errors=yes')\n",
    "options.add_argument('--ignore-certificate-errors')\n",
    "prefs = {\n",
    "    \"download.default_directory\" : \"/home/seluser/Downloads\",\n",
    "    \"download.prompt_for_download\": False,\n",
    "    \"directory_upgrade\": True,\n",
    "    \"safebrowsing.enabled\": True\n",
    "}\n",
    "options.add_experimental_option(\"prefs\", prefs)\n",
    "\n",
    "driver = webdriver.Remote(\n",
    "    command_executor='http://172.29.32.23:4444/wd/hub',\n",
    "    options=options\n",
    ")"
   ]
  },
  {
   "cell_type": "code",
   "execution_count": 18,
   "metadata": {},
   "outputs": [],
   "source": [
    "driver.get(\"https://danhmuchanhchinh.gso.gov.vn/Doi_Chieu_Moi.aspx\")"
   ]
  },
  {
   "cell_type": "code",
   "execution_count": null,
   "metadata": {},
   "outputs": [],
   "source": [
    "driver = access_website_driver(\"https://danhmuchanhchinh.gso.gov.vn/Doi_Chieu_Moi.aspx\", headless=True)"
   ]
  },
  {
   "cell_type": "code",
   "execution_count": null,
   "metadata": {},
   "outputs": [],
   "source": [
    "driver.close()"
   ]
  },
  {
   "cell_type": "code",
   "execution_count": 19,
   "metadata": {},
   "outputs": [
    {
     "data": {
      "text/plain": [
       "'23/10/2023'"
      ]
     },
     "execution_count": 19,
     "metadata": {},
     "output_type": "execute_result"
    }
   ],
   "source": [
    "now_day = \"23/01/2024\"\n",
    "def update_dmy(now_day: str):\n",
    "    day = now_day.split(\"/\")[0]\n",
    "    month = now_day.split(\"/\")[1]\n",
    "    year = now_day.split(\"/\")[2]\n",
    "    update_month = int(month) - 3\n",
    "    if update_month > 0:\n",
    "        update_year = year\n",
    "        return \"/\".join([day, f\"{update_month:02d}\", update_year])\n",
    "    else:\n",
    "        update_month = int(month) - 3 + 12\n",
    "        update_year = str(int(year) - 1)\n",
    "        return \"/\".join([day, f\"{update_month:02d}\", update_year])\n",
    "update_dmy(now_day)"
   ]
  },
  {
   "cell_type": "code",
   "execution_count": 8,
   "metadata": {},
   "outputs": [
    {
     "name": "stdout",
     "output_type": "stream",
     "text": [
      "15/05/2024\n"
     ]
    },
    {
     "data": {
      "text/plain": [
       "'Thực Hiện'"
      ]
     },
     "metadata": {},
     "output_type": "display_data"
    }
   ],
   "source": [
    "input_value = driver.find_element(By.XPATH, value='//*[@id=\"ctl00_PlaceHolderMain_txtNgay_I\"]')\n",
    "now_day = input_value.get_attribute(\"value\")\n",
    "driver.find_element(By.XPATH, value='//*[@id=\"ctl00_PlaceHolderMain_txtNgayDC_I\"]').clear()\n",
    "driver.find_element(By.XPATH, value='//*[@id=\"ctl00_PlaceHolderMain_txtNgayDC_I\"]').send_keys(update_dmy(now_day))\n",
    "time.sleep(1)\n",
    "input_value = driver.find_element(By.XPATH, value='//*[@id=\"ctl00_PlaceHolderMain_txtNgayDC_I\"]')\n",
    "print(input_value.get_attribute(\"value\"))\n",
    "button = WebDriverWait(driver, 10) \\\n",
    "        .until(ec.presence_of_element_located((By.XPATH, \"//*[@id=\\\"ctl00_PlaceHolderMain_cmdThucHien_CD\\\"]/span\")))\n",
    "time.sleep(1)\n",
    "display(button.text)\n",
    "button.click()\n",
    "time.sleep(1)\n",
    "button = driver.find_element(\n",
    "    by=By.XPATH, value=\"//*[@id=\\\"ctl00_PlaceHolderMain_cmdExcel_B\\\"]\"\n",
    ")\n",
    "button.click()\n"
   ]
  },
  {
   "cell_type": "code",
   "execution_count": 20,
   "metadata": {},
   "outputs": [
    {
     "name": "stdout",
     "output_type": "stream",
     "text": [
      "15/05/2024\n",
      "button found!!!! Excel\n"
     ]
    }
   ],
   "source": [
    "input_value = driver.find_element(By.XPATH, value='//*[@id=\"ctl00_PlaceHolderMain_txtNgay_I\"]')\n",
    "now_day = input_value.get_attribute(\"value\")\n",
    "driver.find_element(By.XPATH, value='//*[@id=\"ctl00_PlaceHolderMain_txtNgayDC_I\"]').clear()\n",
    "driver.find_element(By.XPATH, value='//*[@id=\"ctl00_PlaceHolderMain_txtNgayDC_I\"]').send_keys(update_dmy(now_day))\n",
    "time.sleep(1)\n",
    "input_value = driver.find_element(By.XPATH, value='//*[@id=\"ctl00_PlaceHolderMain_txtNgayDC_I\"]')\n",
    "print(input_value.get_attribute(\"value\"))\n",
    "\n",
    "button = WebDriverWait(driver, 10) \\\n",
    "        .until(ec.presence_of_element_located((By.XPATH, \"//*[@id=\\\"ctl00_PlaceHolderMain_cmdThucHien_CD\\\"]/span\")))\n",
    "time.sleep(1)   \n",
    "button.click()\n",
    "time.sleep(1)\n",
    "\n",
    "button_down = WebDriverWait(driver, 10) \\\n",
    "        .until(ec.presence_of_element_located((By.XPATH, \"//*[@id=\\\"ctl00_PlaceHolderMain_cmdExcel_B\\\"]\")))\n",
    "time.sleep(1)\n",
    "print(\"button found!!!!\", button_down.text)\n",
    "button_down.click()\n",
    "time.sleep(5)\n",
    "# driver.close()"
   ]
  },
  {
   "cell_type": "code",
   "execution_count": 21,
   "metadata": {},
   "outputs": [],
   "source": [
    "driver.close()"
   ]
  },
  {
   "cell_type": "code",
   "execution_count": 10,
   "metadata": {},
   "outputs": [
    {
     "data": {
      "text/plain": [
       "'Excel'"
      ]
     },
     "execution_count": 10,
     "metadata": {},
     "output_type": "execute_result"
    }
   ],
   "source": [
    "button.text"
   ]
  },
  {
   "cell_type": "code",
   "execution_count": 11,
   "metadata": {},
   "outputs": [],
   "source": [
    "button.click()"
   ]
  }
 ],
 "metadata": {
  "kernelspec": {
   "display_name": "crawl_data",
   "language": "python",
   "name": "python3"
  },
  "language_info": {
   "codemirror_mode": {
    "name": "ipython",
    "version": 3
   },
   "file_extension": ".py",
   "mimetype": "text/x-python",
   "name": "python",
   "nbconvert_exporter": "python",
   "pygments_lexer": "ipython3",
   "version": "undefined.undefined.undefined"
  }
 },
 "nbformat": 4,
 "nbformat_minor": 2
}
